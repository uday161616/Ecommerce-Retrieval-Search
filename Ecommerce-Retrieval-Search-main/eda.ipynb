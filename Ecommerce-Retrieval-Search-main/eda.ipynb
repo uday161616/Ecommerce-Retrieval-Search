{
 "cells": [
  {
   "cell_type": "code",
   "execution_count": 1,
   "metadata": {},
   "outputs": [],
   "source": [
    "import os\n",
    "import re\n",
    "import ast\n",
    "import nltk\n",
    "import numpy as np\n",
    "import pandas as pd\n",
    "import seaborn as sns\n",
    "import matplotlib.pyplot as plt\n",
    "from collections import Counter\n",
    "from nltk.corpus import stopwords\n",
    "from nltk.stem import PorterStemmer"
   ]
  },
  {
   "cell_type": "code",
   "execution_count": 2,
   "metadata": {},
   "outputs": [
    {
     "name": "stderr",
     "output_type": "stream",
     "text": [
      "[nltk_data] Downloading package stopwords to\n",
      "[nltk_data]     C:\\Users\\sunny\\AppData\\Roaming\\nltk_data...\n",
      "[nltk_data]   Package stopwords is already up-to-date!\n"
     ]
    },
    {
     "data": {
      "text/plain": [
       "True"
      ]
     },
     "execution_count": 2,
     "metadata": {},
     "output_type": "execute_result"
    }
   ],
   "source": [
    "nltk.download('stopwords')"
   ]
  },
  {
   "cell_type": "markdown",
   "metadata": {},
   "source": [
    "## Loading Dataset"
   ]
  },
  {
   "cell_type": "code",
   "execution_count": 3,
   "metadata": {},
   "outputs": [
    {
     "data": {
      "text/plain": [
       "'c:\\\\Users\\\\sunny\\\\Desktop\\\\Home\\\\Projects\\\\Python\\\\ZEPTO-ASSIGNMENT\\\\ZEPTO_DS\\\\data\\\\flipkart_com-ecommerce_sample.csv'"
      ]
     },
     "execution_count": 3,
     "metadata": {},
     "output_type": "execute_result"
    }
   ],
   "source": [
    "curr_dir = os.getcwd()\n",
    "data_path = os.path.join(curr_dir, \"Data\", \"data\", \"flipkart_com-ecommerce_sample.csv\")\n",
    "data_path"
   ]
  },
  {
   "cell_type": "code",
   "execution_count": 4,
   "metadata": {},
   "outputs": [
    {
     "data": {
      "text/html": [
       "<div>\n",
       "<style scoped>\n",
       "    .dataframe tbody tr th:only-of-type {\n",
       "        vertical-align: middle;\n",
       "    }\n",
       "\n",
       "    .dataframe tbody tr th {\n",
       "        vertical-align: top;\n",
       "    }\n",
       "\n",
       "    .dataframe thead th {\n",
       "        text-align: right;\n",
       "    }\n",
       "</style>\n",
       "<table border=\"1\" class=\"dataframe\">\n",
       "  <thead>\n",
       "    <tr style=\"text-align: right;\">\n",
       "      <th></th>\n",
       "      <th>uniq_id</th>\n",
       "      <th>crawl_timestamp</th>\n",
       "      <th>product_url</th>\n",
       "      <th>product_name</th>\n",
       "      <th>product_category_tree</th>\n",
       "      <th>pid</th>\n",
       "      <th>retail_price</th>\n",
       "      <th>discounted_price</th>\n",
       "      <th>image</th>\n",
       "      <th>is_FK_Advantage_product</th>\n",
       "      <th>description</th>\n",
       "      <th>product_rating</th>\n",
       "      <th>overall_rating</th>\n",
       "      <th>brand</th>\n",
       "      <th>product_specifications</th>\n",
       "    </tr>\n",
       "  </thead>\n",
       "  <tbody>\n",
       "    <tr>\n",
       "      <th>0</th>\n",
       "      <td>c2d766ca982eca8304150849735ffef9</td>\n",
       "      <td>2016-03-25 22:59:23 +0000</td>\n",
       "      <td>http://www.flipkart.com/alisha-solid-women-s-c...</td>\n",
       "      <td>Alisha Solid Women's Cycling Shorts</td>\n",
       "      <td>[\"Clothing &gt;&gt; Women's Clothing &gt;&gt; Lingerie, Sl...</td>\n",
       "      <td>SRTEH2FF9KEDEFGF</td>\n",
       "      <td>999.0</td>\n",
       "      <td>379.0</td>\n",
       "      <td>[\"http://img5a.flixcart.com/image/short/u/4/a/...</td>\n",
       "      <td>False</td>\n",
       "      <td>Key Features of Alisha Solid Women's Cycling S...</td>\n",
       "      <td>No rating available</td>\n",
       "      <td>No rating available</td>\n",
       "      <td>Alisha</td>\n",
       "      <td>{\"product_specification\"=&gt;[{\"key\"=&gt;\"Number of ...</td>\n",
       "    </tr>\n",
       "    <tr>\n",
       "      <th>1</th>\n",
       "      <td>7f7036a6d550aaa89d34c77bd39a5e48</td>\n",
       "      <td>2016-03-25 22:59:23 +0000</td>\n",
       "      <td>http://www.flipkart.com/fabhomedecor-fabric-do...</td>\n",
       "      <td>FabHomeDecor Fabric Double Sofa Bed</td>\n",
       "      <td>[\"Furniture &gt;&gt; Living Room Furniture &gt;&gt; Sofa B...</td>\n",
       "      <td>SBEEH3QGU7MFYJFY</td>\n",
       "      <td>32157.0</td>\n",
       "      <td>22646.0</td>\n",
       "      <td>[\"http://img6a.flixcart.com/image/sofa-bed/j/f...</td>\n",
       "      <td>False</td>\n",
       "      <td>FabHomeDecor Fabric Double Sofa Bed (Finish Co...</td>\n",
       "      <td>No rating available</td>\n",
       "      <td>No rating available</td>\n",
       "      <td>FabHomeDecor</td>\n",
       "      <td>{\"product_specification\"=&gt;[{\"key\"=&gt;\"Installati...</td>\n",
       "    </tr>\n",
       "    <tr>\n",
       "      <th>2</th>\n",
       "      <td>f449ec65dcbc041b6ae5e6a32717d01b</td>\n",
       "      <td>2016-03-25 22:59:23 +0000</td>\n",
       "      <td>http://www.flipkart.com/aw-bellies/p/itmeh4grg...</td>\n",
       "      <td>AW Bellies</td>\n",
       "      <td>[\"Footwear &gt;&gt; Women's Footwear &gt;&gt; Ballerinas &gt;...</td>\n",
       "      <td>SHOEH4GRSUBJGZXE</td>\n",
       "      <td>999.0</td>\n",
       "      <td>499.0</td>\n",
       "      <td>[\"http://img5a.flixcart.com/image/shoe/7/z/z/r...</td>\n",
       "      <td>False</td>\n",
       "      <td>Key Features of AW Bellies Sandals Wedges Heel...</td>\n",
       "      <td>No rating available</td>\n",
       "      <td>No rating available</td>\n",
       "      <td>AW</td>\n",
       "      <td>{\"product_specification\"=&gt;[{\"key\"=&gt;\"Ideal For\"...</td>\n",
       "    </tr>\n",
       "    <tr>\n",
       "      <th>3</th>\n",
       "      <td>0973b37acd0c664e3de26e97e5571454</td>\n",
       "      <td>2016-03-25 22:59:23 +0000</td>\n",
       "      <td>http://www.flipkart.com/alisha-solid-women-s-c...</td>\n",
       "      <td>Alisha Solid Women's Cycling Shorts</td>\n",
       "      <td>[\"Clothing &gt;&gt; Women's Clothing &gt;&gt; Lingerie, Sl...</td>\n",
       "      <td>SRTEH2F6HUZMQ6SJ</td>\n",
       "      <td>699.0</td>\n",
       "      <td>267.0</td>\n",
       "      <td>[\"http://img5a.flixcart.com/image/short/6/2/h/...</td>\n",
       "      <td>False</td>\n",
       "      <td>Key Features of Alisha Solid Women's Cycling S...</td>\n",
       "      <td>No rating available</td>\n",
       "      <td>No rating available</td>\n",
       "      <td>Alisha</td>\n",
       "      <td>{\"product_specification\"=&gt;[{\"key\"=&gt;\"Number of ...</td>\n",
       "    </tr>\n",
       "    <tr>\n",
       "      <th>4</th>\n",
       "      <td>bc940ea42ee6bef5ac7cea3fb5cfbee7</td>\n",
       "      <td>2016-03-25 22:59:23 +0000</td>\n",
       "      <td>http://www.flipkart.com/sicons-all-purpose-arn...</td>\n",
       "      <td>Sicons All Purpose Arnica Dog Shampoo</td>\n",
       "      <td>[\"Pet Supplies &gt;&gt; Grooming &gt;&gt; Skin &amp; Coat Care...</td>\n",
       "      <td>PSOEH3ZYDMSYARJ5</td>\n",
       "      <td>220.0</td>\n",
       "      <td>210.0</td>\n",
       "      <td>[\"http://img5a.flixcart.com/image/pet-shampoo/...</td>\n",
       "      <td>False</td>\n",
       "      <td>Specifications of Sicons All Purpose Arnica Do...</td>\n",
       "      <td>No rating available</td>\n",
       "      <td>No rating available</td>\n",
       "      <td>Sicons</td>\n",
       "      <td>{\"product_specification\"=&gt;[{\"key\"=&gt;\"Pet Type\",...</td>\n",
       "    </tr>\n",
       "  </tbody>\n",
       "</table>\n",
       "</div>"
      ],
      "text/plain": [
       "                            uniq_id            crawl_timestamp  \\\n",
       "0  c2d766ca982eca8304150849735ffef9  2016-03-25 22:59:23 +0000   \n",
       "1  7f7036a6d550aaa89d34c77bd39a5e48  2016-03-25 22:59:23 +0000   \n",
       "2  f449ec65dcbc041b6ae5e6a32717d01b  2016-03-25 22:59:23 +0000   \n",
       "3  0973b37acd0c664e3de26e97e5571454  2016-03-25 22:59:23 +0000   \n",
       "4  bc940ea42ee6bef5ac7cea3fb5cfbee7  2016-03-25 22:59:23 +0000   \n",
       "\n",
       "                                         product_url  \\\n",
       "0  http://www.flipkart.com/alisha-solid-women-s-c...   \n",
       "1  http://www.flipkart.com/fabhomedecor-fabric-do...   \n",
       "2  http://www.flipkart.com/aw-bellies/p/itmeh4grg...   \n",
       "3  http://www.flipkart.com/alisha-solid-women-s-c...   \n",
       "4  http://www.flipkart.com/sicons-all-purpose-arn...   \n",
       "\n",
       "                            product_name  \\\n",
       "0    Alisha Solid Women's Cycling Shorts   \n",
       "1    FabHomeDecor Fabric Double Sofa Bed   \n",
       "2                             AW Bellies   \n",
       "3    Alisha Solid Women's Cycling Shorts   \n",
       "4  Sicons All Purpose Arnica Dog Shampoo   \n",
       "\n",
       "                               product_category_tree               pid  \\\n",
       "0  [\"Clothing >> Women's Clothing >> Lingerie, Sl...  SRTEH2FF9KEDEFGF   \n",
       "1  [\"Furniture >> Living Room Furniture >> Sofa B...  SBEEH3QGU7MFYJFY   \n",
       "2  [\"Footwear >> Women's Footwear >> Ballerinas >...  SHOEH4GRSUBJGZXE   \n",
       "3  [\"Clothing >> Women's Clothing >> Lingerie, Sl...  SRTEH2F6HUZMQ6SJ   \n",
       "4  [\"Pet Supplies >> Grooming >> Skin & Coat Care...  PSOEH3ZYDMSYARJ5   \n",
       "\n",
       "   retail_price  discounted_price  \\\n",
       "0         999.0             379.0   \n",
       "1       32157.0           22646.0   \n",
       "2         999.0             499.0   \n",
       "3         699.0             267.0   \n",
       "4         220.0             210.0   \n",
       "\n",
       "                                               image is_FK_Advantage_product  \\\n",
       "0  [\"http://img5a.flixcart.com/image/short/u/4/a/...                   False   \n",
       "1  [\"http://img6a.flixcart.com/image/sofa-bed/j/f...                   False   \n",
       "2  [\"http://img5a.flixcart.com/image/shoe/7/z/z/r...                   False   \n",
       "3  [\"http://img5a.flixcart.com/image/short/6/2/h/...                   False   \n",
       "4  [\"http://img5a.flixcart.com/image/pet-shampoo/...                   False   \n",
       "\n",
       "                                         description       product_rating  \\\n",
       "0  Key Features of Alisha Solid Women's Cycling S...  No rating available   \n",
       "1  FabHomeDecor Fabric Double Sofa Bed (Finish Co...  No rating available   \n",
       "2  Key Features of AW Bellies Sandals Wedges Heel...  No rating available   \n",
       "3  Key Features of Alisha Solid Women's Cycling S...  No rating available   \n",
       "4  Specifications of Sicons All Purpose Arnica Do...  No rating available   \n",
       "\n",
       "        overall_rating         brand  \\\n",
       "0  No rating available        Alisha   \n",
       "1  No rating available  FabHomeDecor   \n",
       "2  No rating available            AW   \n",
       "3  No rating available        Alisha   \n",
       "4  No rating available        Sicons   \n",
       "\n",
       "                              product_specifications  \n",
       "0  {\"product_specification\"=>[{\"key\"=>\"Number of ...  \n",
       "1  {\"product_specification\"=>[{\"key\"=>\"Installati...  \n",
       "2  {\"product_specification\"=>[{\"key\"=>\"Ideal For\"...  \n",
       "3  {\"product_specification\"=>[{\"key\"=>\"Number of ...  \n",
       "4  {\"product_specification\"=>[{\"key\"=>\"Pet Type\",...  "
      ]
     },
     "execution_count": 4,
     "metadata": {},
     "output_type": "execute_result"
    }
   ],
   "source": [
    "df = pd.read_csv(data_path)\n",
    "df.head()"
   ]
  },
  {
   "cell_type": "code",
   "execution_count": 5,
   "metadata": {},
   "outputs": [
    {
     "name": "stdout",
     "output_type": "stream",
     "text": [
      "<class 'pandas.core.frame.DataFrame'>\n",
      "RangeIndex: 20002 entries, 0 to 20001\n",
      "Data columns (total 15 columns):\n",
      " #   Column                   Non-Null Count  Dtype  \n",
      "---  ------                   --------------  -----  \n",
      " 0   uniq_id                  20000 non-null  object \n",
      " 1   crawl_timestamp          20000 non-null  object \n",
      " 2   product_url              20000 non-null  object \n",
      " 3   product_name             20000 non-null  object \n",
      " 4   product_category_tree    20000 non-null  object \n",
      " 5   pid                      20000 non-null  object \n",
      " 6   retail_price             19922 non-null  float64\n",
      " 7   discounted_price         19922 non-null  float64\n",
      " 8   image                    19997 non-null  object \n",
      " 9   is_FK_Advantage_product  20000 non-null  object \n",
      " 10  description              19998 non-null  object \n",
      " 11  product_rating           20000 non-null  object \n",
      " 12  overall_rating           20000 non-null  object \n",
      " 13  brand                    14136 non-null  object \n",
      " 14  product_specifications   19986 non-null  object \n",
      "dtypes: float64(2), object(13)\n",
      "memory usage: 2.3+ MB\n"
     ]
    }
   ],
   "source": [
    "df.info()"
   ]
  },
  {
   "cell_type": "markdown",
   "metadata": {},
   "source": [
    "## Missing Values"
   ]
  },
  {
   "cell_type": "code",
   "execution_count": 6,
   "metadata": {},
   "outputs": [
    {
     "data": {
      "text/plain": [
       "uniq_id                       2\n",
       "crawl_timestamp               2\n",
       "product_url                   2\n",
       "product_name                  2\n",
       "product_category_tree         2\n",
       "pid                           2\n",
       "retail_price                 80\n",
       "discounted_price             80\n",
       "image                         5\n",
       "is_FK_Advantage_product       2\n",
       "description                   4\n",
       "product_rating                2\n",
       "overall_rating                2\n",
       "brand                      5866\n",
       "product_specifications       16\n",
       "dtype: int64"
      ]
     },
     "execution_count": 6,
     "metadata": {},
     "output_type": "execute_result"
    }
   ],
   "source": [
    "df.isnull().sum()"
   ]
  },
  {
   "cell_type": "code",
   "execution_count": null,
   "metadata": {},
   "outputs": [
    {
     "data": {
      "text/html": [
       "<div>\n",
       "<style scoped>\n",
       "    .dataframe tbody tr th:only-of-type {\n",
       "        vertical-align: middle;\n",
       "    }\n",
       "\n",
       "    .dataframe tbody tr th {\n",
       "        vertical-align: top;\n",
       "    }\n",
       "\n",
       "    .dataframe thead th {\n",
       "        text-align: right;\n",
       "    }\n",
       "</style>\n",
       "<table border=\"1\" class=\"dataframe\">\n",
       "  <thead>\n",
       "    <tr style=\"text-align: right;\">\n",
       "      <th></th>\n",
       "      <th>uniq_id</th>\n",
       "      <th>crawl_timestamp</th>\n",
       "      <th>product_url</th>\n",
       "      <th>product_name</th>\n",
       "      <th>product_category_tree</th>\n",
       "      <th>pid</th>\n",
       "      <th>retail_price</th>\n",
       "      <th>discounted_price</th>\n",
       "      <th>image</th>\n",
       "      <th>is_FK_Advantage_product</th>\n",
       "      <th>description</th>\n",
       "      <th>product_rating</th>\n",
       "      <th>overall_rating</th>\n",
       "      <th>brand</th>\n",
       "      <th>product_specifications</th>\n",
       "    </tr>\n",
       "  </thead>\n",
       "  <tbody>\n",
       "    <tr>\n",
       "      <th>20000</th>\n",
       "      <td>NaN</td>\n",
       "      <td>NaN</td>\n",
       "      <td>NaN</td>\n",
       "      <td>NaN</td>\n",
       "      <td>NaN</td>\n",
       "      <td>NaN</td>\n",
       "      <td>NaN</td>\n",
       "      <td>NaN</td>\n",
       "      <td>NaN</td>\n",
       "      <td>NaN</td>\n",
       "      <td>NaN</td>\n",
       "      <td>NaN</td>\n",
       "      <td>NaN</td>\n",
       "      <td>NaN</td>\n",
       "      <td>NaN</td>\n",
       "    </tr>\n",
       "    <tr>\n",
       "      <th>20001</th>\n",
       "      <td>NaN</td>\n",
       "      <td>NaN</td>\n",
       "      <td>NaN</td>\n",
       "      <td>NaN</td>\n",
       "      <td>NaN</td>\n",
       "      <td>NaN</td>\n",
       "      <td>NaN</td>\n",
       "      <td>NaN</td>\n",
       "      <td>NaN</td>\n",
       "      <td>NaN</td>\n",
       "      <td>NaN</td>\n",
       "      <td>NaN</td>\n",
       "      <td>NaN</td>\n",
       "      <td>NaN</td>\n",
       "      <td>NaN</td>\n",
       "    </tr>\n",
       "  </tbody>\n",
       "</table>\n",
       "</div>"
      ],
      "text/plain": [
       "      uniq_id crawl_timestamp product_url product_name product_category_tree  \\\n",
       "20000     NaN             NaN         NaN          NaN                   NaN   \n",
       "20001     NaN             NaN         NaN          NaN                   NaN   \n",
       "\n",
       "       pid  retail_price  discounted_price image is_FK_Advantage_product  \\\n",
       "20000  NaN           NaN               NaN   NaN                     NaN   \n",
       "20001  NaN           NaN               NaN   NaN                     NaN   \n",
       "\n",
       "      description product_rating overall_rating brand product_specifications  \n",
       "20000         NaN            NaN            NaN   NaN                    NaN  \n",
       "20001         NaN            NaN            NaN   NaN                    NaN  "
      ]
     },
     "metadata": {},
     "output_type": "display_data"
    }
   ],
   "source": [
    "df[df['uniq_id'].isnull()]"
   ]
  },
  {
   "cell_type": "markdown",
   "metadata": {},
   "source": [
    "<p> As you can see it is better to drop the above two rows. All the other columns containing null values are only partial nulls and we can use those columns.<p>"
   ]
  },
  {
   "cell_type": "code",
   "execution_count": 37,
   "metadata": {},
   "outputs": [
    {
     "name": "stdout",
     "output_type": "stream",
     "text": [
      "(20002, 15)\n",
      "(20000, 15)\n"
     ]
    }
   ],
   "source": [
    "print(df.shape)\n",
    "df = df[~df['uniq_id'].isnull()]\n",
    "print(df.shape)"
   ]
  },
  {
   "cell_type": "markdown",
   "metadata": {},
   "source": [
    "## Analyzing Columns"
   ]
  },
  {
   "cell_type": "code",
   "execution_count": 8,
   "metadata": {},
   "outputs": [
    {
     "data": {
      "text/plain": [
       "array(['[\"Clothing >> Men\\'s Clothing >> Winter & Seasonal Wear >> Sweatshirts >> Rodid Sweatshirts\"]',\n",
       "       '[\"Tools & Hardware >> Tools >> Gardening Tools >> Plant Containers & Sets >> Plant Container Sets\"]',\n",
       "       '[\"Clothing >> Men\\'s Clothing >> T-Shirts >> Numalo T-Shirts\"]',\n",
       "       '[\"Baby Care >> Infant Wear >> Baby Boys\\' Clothes >> Accessories >> Caps >> florence9 Caps >> florence9 baby cap red checks Cap\"]',\n",
       "       '[\"Clothing >> Women\\'s Clothing >> Lingerie, Sleep & Swimwear >> Bras >> Madaam Bras\"]',\n",
       "       '[\"Jewellery >> Necklaces & Chains >> Necklaces\"]',\n",
       "       '[\"Beauty and Personal Care >> Fragrances >> Deodorants >> Combos >> Engage Combos\"]',\n",
       "       '[\"Clothing >> Women\\'s Clothing >> Lingerie, Sleep & Swimwear >> Bras >> Ploomz Bras\"]',\n",
       "       '[\"Clothing >> Women\\'s Clothing >> Western Wear >> Shirts, Tops & Tunics >> Tops >> Dewberries Tops\"]',\n",
       "       '[\"Sports & Fitness >> Fitness Accessories >> Accessories >> Yoga Blocks >> Gravolite Yoga Blocks >> Gravolite Meditation Yoga Blocks (Red Pack of 1)\"]'],\n",
       "      dtype=object)"
      ]
     },
     "execution_count": 8,
     "metadata": {},
     "output_type": "execute_result"
    }
   ],
   "source": [
    "temp =  df.sample(10)\n",
    "temp['product_category_tree'].values"
   ]
  },
  {
   "cell_type": "code",
   "execution_count": 9,
   "metadata": {},
   "outputs": [
    {
     "data": {
      "text/plain": [
       "array(['{\"product_specification\"=>[{\"key\"=>\"Knit Type\", \"value\"=>\"Fleece\"}, {\"key\"=>\"Sleeve\", \"value\"=>\"Full Sleeve\"}, {\"key\"=>\"Hooded\", \"value\"=>\"Yes\"}, {\"key\"=>\"Reversible\", \"value\"=>\"No\"}, {\"key\"=>\"Fabric\", \"value\"=>\"Cotton\"}, {\"key\"=>\"Pockets\", \"value\"=>\"Kangaroo Pockets at Front\"}, {\"key\"=>\"Neck\", \"value\"=>\"Round Neck\"}, {\"key\"=>\"Pattern\", \"value\"=>\"Solid\"}, {\"key\"=>\"Occasion\", \"value\"=>\"Casual\"}, {\"key\"=>\"Ideal For\", \"value\"=>\"Men\\'s\"}, {\"value\"=>\"1 Sweatshirt\"}, {\"key\"=>\"Other Details\", \"value\"=>\"This Sweatshirt is available in 5 colors .\"}, {\"key\"=>\"Style Code\", \"value\"=>\"HWSSWTZ-NB\"}, {\"value\"=>\"wash similar colors together.\"}]}',\n",
       "       '{\"product_specification\"=>[{\"key\"=>\"Shape\", \"value\"=>\"Rectangle\"}, {\"key\"=>\"Brand\", \"value\"=>\"VGreen\"}, {\"key\"=>\"Model Number\", \"value\"=>\"VG157 - Rectangular Planter Big\"}, {\"key\"=>\"Type\", \"value\"=>\"Decorative, Outdoor\"}, {\"key\"=>\"Material\", \"value\"=>\"Plastic\"}, {\"key\"=>\"Color\", \"value\"=>\"Brown\"}, {\"key\"=>\"Sales Package\", \"value\"=>\"2\"}, {\"key\"=>\"Pack of\", \"value\"=>\"2\"}, {\"key\"=>\"Height\", \"value\"=>\"15 cm, 63 cm, 20 cm\"}]}',\n",
       "       '{\"product_specification\"=>[{\"key\"=>\"Sleeve\", \"value\"=>\"Half Sleeve\"}, {\"key\"=>\"Number of Contents in Sales Package\", \"value\"=>\"Pack of 1\"}, {\"key\"=>\"Fabric\", \"value\"=>\"Cottonpoly\"}, {\"key\"=>\"Type\", \"value\"=>\"Polo Neck\"}, {\"key\"=>\"Fit\", \"value\"=>\"Slim\"}, {\"key\"=>\"Pattern\", \"value\"=>\"Striped, Embroidered\"}, {\"key\"=>\"Occasion\", \"value\"=>\"Casual\"}, {\"key\"=>\"Ideal For\", \"value\"=>\"Men\\'s\"}, {\"value\"=>\"1 T Shirt\"}, {\"key\"=>\"Other Details\", \"value\"=>\"Button Down Placket\"}, {\"key\"=>\"Style Code\", \"value\"=>\"NUMHSTS0006\"}, {\"value\"=>\"Wash with Similar Colors, Use Detergent for Colors\"}]}',\n",
       "       '{\"product_specification\"=>[{\"key\"=>\"Number of Contents in Sales Package\", \"value\"=>\"Pack of 1\"}, {\"key\"=>\"Fabric\", \"value\"=>\"Cotton\"}, {\"key\"=>\"Type\", \"value\"=>\"baby cap red checks\"}, {\"key\"=>\"Occasion\", \"value\"=>\"Casual\"}, {\"key\"=>\"Ideal For\", \"value\"=>\"Baby Boy\\'s, Baby Girl\\'s\"}, {\"key\"=>\"Style Code\", \"value\"=>\"baby cap red checks\"}]}',\n",
       "       '{\"product_specification\"=>[{\"key\"=>\"Brand Color\", \"value\"=>\"Multicolor\"}, {\"key\"=>\"color\", \"value\"=>\"Red, Pink, Beige\"}, {\"key\"=>\"Pattern\", \"value\"=>\"Solid\"}, {\"key\"=>\"Occasion\", \"value\"=>\"Casual\"}, {\"key\"=>\"Ideal For\", \"value\"=>\"Women\\'s\"}, {\"key\"=>\"Inner Lining\", \"value\"=>\"Polyster Seamless Lining\"}, {\"key\"=>\"Closure\", \"value\"=>\"Closure Tube Bra\"}, {\"key\"=>\"Number of Contents in Sales Package\", \"value\"=>\"Pack of 3\"}, {\"key\"=>\"Fabric\", \"value\"=>\"Poly Lycra\"}, {\"key\"=>\"Seam Type\", \"value\"=>\"Seamless\"}, {\"key\"=>\"Type\", \"value\"=>\"Tube Bra\"}, {\"key\"=>\"Style\", \"value\"=>\"Tube Bra Free Size fits bust Inch 28 - 38\"}, {\"key\"=>\"Neck\", \"value\"=>\"Neck Less\"}, {\"key\"=>\"Back\", \"value\"=>\"Racer\"}, {\"key\"=>\"Wire Support\", \"value\"=>\"Wirefree\"}, {\"key\"=>\"Straps\", \"value\"=>\"Regular\"}, {\"key\"=>\"Detachable Straps\", \"value\"=>\"No\"}, {\"key\"=>\"Fastening\", \"value\"=>\"Provided at the No Hooks\"}, {\"key\"=>\"Cup Type\", \"value\"=>\"Non Padded\"}, {\"key\"=>\"Series\", \"value\"=>\"Women\\'s\"}, {\"key\"=>\"Weave Type\", \"value\"=>\"Polyster Weave\"}, {\"value\"=>\"3 Tube Bra\"}, {\"value\"=>\"Gentle Machine Wash in Lukewarm Water, Do Not Bleach, Gentle Wash in Lukewarm Water, Do Not Iron, For Long Life Always Use Liquid Detergent\"}]}',\n",
       "       '{\"product_specification\"=>[{\"key\"=>\"Collection\", \"value\"=>\"Ethnic\"}, {\"key\"=>\"Brand\", \"value\"=>\"Falconoverseas\"}, {\"key\"=>\"Precious/Artificial Jewellery\", \"value\"=>\"Fashion Jewellery\"}, {\"key\"=>\"Model Number\", \"value\"=>\"FO_104\"}, {\"key\"=>\"Type\", \"value\"=>\"Necklace\"}, {\"key\"=>\"Model Name\", \"value\"=>\"Durable Construction\"}, {\"key\"=>\"Occasion\", \"value\"=>\"Religious\"}, {\"key\"=>\"Ideal For\", \"value\"=>\"Women\"}, {\"key\"=>\"Color\", \"value\"=>\"Black, Beige\"}, {\"key\"=>\"Base Material\", \"value\"=>\"Lac, Bone\"}, {\"key\"=>\"Finish\", \"value\"=>\"Glossy\"}, {\"key\"=>\"Sales Package\", \"value\"=>\"1 Necklace\"}, {\"key\"=>\"Pack of\", \"value\"=>\"1\"}]}',\n",
       "       '{\"product_specification\"=>[{\"key\"=>\"Number of Contents in Set\", \"value\"=>\"3\"}, {\"key\"=>\"Combo Set Content\", \"value\"=>\"3 pcs of Engage Tease Deodorants\"}, {\"key\"=>\"Ideal For\", \"value\"=>\"Women\"}, {\"value\"=>\"3 Engage Tease 165 ml\"}]}',\n",
       "       '{\"product_specification\"=>[{\"key\"=>\"Brand Color\", \"value\"=>\"Red\"}, {\"key\"=>\"color\", \"value\"=>\"Red\"}, {\"key\"=>\"Ideal For\", \"value\"=>\"Women\\'s\"}, {\"key\"=>\"Occasion\", \"value\"=>\"Casual\"}, {\"key\"=>\"Wire Support\", \"value\"=>\"Underwire\"}, {\"key\"=>\"Straps\", \"value\"=>\"Regular\"}, {\"key\"=>\"Number of Contents in Sales Package\", \"value\"=>\"Pack of 1\"}, {\"key\"=>\"Cup Type\", \"value\"=>\"Padded\"}, {\"key\"=>\"Fabric\", \"value\"=>\"Nylon\"}, {\"key\"=>\"Type\", \"value\"=>\"Push-up Bra\"}, {\"key\"=>\"Series\", \"value\"=>\"Women\\'s\"}]}',\n",
       "       '{\"product_specification\"=>[{\"key\"=>\"Ideal For\", \"value\"=>\"Women\\'s\"}, {\"key\"=>\"Occasion\", \"value\"=>\"Formal\"}, {\"key\"=>\"Pattern\", \"value\"=>\"Self Design\"}, {\"key\"=>\"Type\", \"value\"=>\"Top\"}, {\"key\"=>\"Fabric\", \"value\"=>\"Poly Cotton\"}, {\"key\"=>\"Neck\", \"value\"=>\"Round Neck\"}, {\"key\"=>\"Sleeve\", \"value\"=>\"Short Sleeve\"}, {\"key\"=>\"Number of Contents in Sales Package\", \"value\"=>\"Pack of 1\"}]}',\n",
       "       '{\"product_specification\"=>[{\"key\"=>\"Brand Color\", \"value\"=>\"Red\"}, {\"key\"=>\"Brand\", \"value\"=>\"Gravolite\"}, {\"key\"=>\"Model Number\", \"value\"=>\"Red88\"}, {\"key\"=>\"Model Name\", \"value\"=>\"Meditation\"}, {\"key\"=>\"Material\", \"value\"=>\"Cotton\"}, {\"key\"=>\"Biodegradable\", \"value\"=>\"Yes\"}, {\"key\"=>\"Color\", \"value\"=>\"Red\"}, {\"key\"=>\"Pack of\", \"value\"=>\"1\"}, {\"key\"=>\"Weight\", \"value\"=>\"2.5 kg\"}, {\"key\"=>\"Height\", \"value\"=>\"6 inch\"}, {\"key\"=>\"Width\", \"value\"=>\"16 inch\"}, {\"key\"=>\"Depth\", \"value\"=>\"6 inch\"}, {\"key\"=>\"Other Features\", \"value\"=>\"Traditional yet Modern Round Design or X-Large Oval Shape\"}]}'],\n",
       "      dtype=object)"
      ]
     },
     "execution_count": 9,
     "metadata": {},
     "output_type": "execute_result"
    }
   ],
   "source": [
    "temp['product_specifications'].values"
   ]
  },
  {
   "cell_type": "markdown",
   "metadata": {},
   "source": [
    "## Metadata of columns\n",
    "\n",
    "1) **uniq_id**: This column represents a unique identifier for each product in the dataset. It is a unique and non-repeating value that can be used to identify each product record.\n",
    "\n",
    "2) **crawl_timestamp**: This column contains the timestamp (date and time) when the data for the product was collected or \"crawled\" from the Flipkart website.\n",
    "\n",
    "3) **product_url**: This column contains the URL or web address of the product page on the Flipkart website.\n",
    "\n",
    "4) **product_name**: This column contains the name or title of the product as displayed on the Flipkart website.\n",
    "\n",
    "5) **product_category_tree**: This column represents the hierarchical category structure to which the product belongs on the Flipkart platform. It may contain multiple levels of categories separated by a delimiter '>>'.\n",
    "\n",
    "6) **pid**: This column represents the product ID or identifier used by Flipkart to uniquely identify the product.\n",
    "\n",
    "7) **retail_price**: This column contains the original or list price of the product before any discounts or offers are applied.\n",
    "\n",
    "8) **discounted_price**: This column represents the final price of the product after any applicable discounts or offers have been applied.\n",
    "\n",
    "9) **image**: This column contains the URL or link to the primary product image displayed on the Flipkart website.\n",
    "\n",
    "10) **is_FK_Advantage_product**: This column is a boolean flag indicating whether the product is part of the Flipkart Advantage program, which offers additional benefits or guarantees to customers.\n",
    "\n",
    "11) **description**: This column contains the detailed product description or information as displayed on the Flipkart website.\n",
    "\n",
    "12) **product_rating**: This column represents the average customer rating or review score for the product, typically on a scale of 1 to 5 stars.\n",
    "\n",
    "13) **overall_rating**: This column contains the overall or composite rating for the product, which may incorporate factors beyond just the customer rating.\n",
    "\n",
    "14) **brand**: This column specifies the brand or manufacturer of the product.\n",
    "\n",
    "15) **product_specifications**: This column contains the detailed technical or feature-related specifications of the product, which may include attributes like fabric size, quantity, quality and other relevant details."
   ]
  },
  {
   "cell_type": "markdown",
   "metadata": {},
   "source": [
    "## Analyzing the Product categories and their Frequencies"
   ]
  },
  {
   "cell_type": "code",
   "execution_count": 10,
   "metadata": {},
   "outputs": [
    {
     "name": "stdout",
     "output_type": "stream",
     "text": [
      "Number of categories: 265\n"
     ]
    }
   ],
   "source": [
    "category_data = df['product_category_tree'].values\n",
    "\n",
    "# Extract unique categories\n",
    "categories = []\n",
    "for cat_str in category_data:\n",
    "    cat_list = eval(cat_str)\n",
    "    cat_list = ''.join(cat_list).split(\">>\")[0].strip()\n",
    "    categories.append(cat_list)\n",
    "category_counts = Counter(categories)\n",
    "print(f\"Number of categories: {len(category_counts)}\")"
   ]
  },
  {
   "cell_type": "code",
   "execution_count": 11,
   "metadata": {},
   "outputs": [
    {
     "data": {
      "image/png": "[encoded data removed]",
      "text/plain": [
       "<Figure size 1200x600 with 1 Axes>"
      ]
     },
     "metadata": {},
     "output_type": "display_data"
    }
   ],
   "source": [
    "# Sort the categories by frequency in descending order\n",
    "sorted_categories = sorted(category_counts.items(), key = lambda x : x[1], reverse = True)\n",
    "\n",
    "# Get the top 10 categories\n",
    "top_categories = [cat[0] for cat in sorted_categories[:10]]\n",
    "top_counts = [cat[1] for cat in sorted_categories[:10]]\n",
    "\n",
    "# Create the bar chart\n",
    "plt.figure(figsize=(12, 6))\n",
    "plt.bar(top_categories, top_counts)\n",
    "plt.xlabel('Product Category')\n",
    "plt.ylabel('Count')\n",
    "plt.title('Top 10 Product Categories')\n",
    "plt.xticks(rotation=90)\n",
    "plt.tight_layout()\n",
    "plt.show()"
   ]
  },
  {
   "cell_type": "markdown",
   "metadata": {},
   "source": [
    "<p> Categories are not balanced <p>"
   ]
  },
  {
   "cell_type": "markdown",
   "metadata": {},
   "source": [
    "## Price of products"
   ]
  },
  {
   "cell_type": "code",
   "execution_count": 12,
   "metadata": {},
   "outputs": [
    {
     "data": {
      "text/html": [
       "<div>\n",
       "<style scoped>\n",
       "    .dataframe tbody tr th:only-of-type {\n",
       "        vertical-align: middle;\n",
       "    }\n",
       "\n",
       "    .dataframe tbody tr th {\n",
       "        vertical-align: top;\n",
       "    }\n",
       "\n",
       "    .dataframe thead th {\n",
       "        text-align: right;\n",
       "    }\n",
       "</style>\n",
       "<table border=\"1\" class=\"dataframe\">\n",
       "  <thead>\n",
       "    <tr style=\"text-align: right;\">\n",
       "      <th></th>\n",
       "      <th>count</th>\n",
       "      <th>mean</th>\n",
       "      <th>std</th>\n",
       "      <th>min</th>\n",
       "      <th>25%</th>\n",
       "      <th>50%</th>\n",
       "      <th>75%</th>\n",
       "      <th>max</th>\n",
       "    </tr>\n",
       "  </thead>\n",
       "  <tbody>\n",
       "    <tr>\n",
       "      <th>retail_price</th>\n",
       "      <td>19922.0</td>\n",
       "      <td>2979.206104</td>\n",
       "      <td>9009.639341</td>\n",
       "      <td>35.0</td>\n",
       "      <td>666.0</td>\n",
       "      <td>1040.0</td>\n",
       "      <td>1999.0</td>\n",
       "      <td>571230.0</td>\n",
       "    </tr>\n",
       "    <tr>\n",
       "      <th>discounted_price</th>\n",
       "      <td>19922.0</td>\n",
       "      <td>1973.401767</td>\n",
       "      <td>7333.586040</td>\n",
       "      <td>35.0</td>\n",
       "      <td>350.0</td>\n",
       "      <td>550.0</td>\n",
       "      <td>999.0</td>\n",
       "      <td>571230.0</td>\n",
       "    </tr>\n",
       "  </tbody>\n",
       "</table>\n",
       "</div>"
      ],
      "text/plain": [
       "                    count         mean          std   min    25%     50%  \\\n",
       "retail_price      19922.0  2979.206104  9009.639341  35.0  666.0  1040.0   \n",
       "discounted_price  19922.0  1973.401767  7333.586040  35.0  350.0   550.0   \n",
       "\n",
       "                     75%       max  \n",
       "retail_price      1999.0  571230.0  \n",
       "discounted_price   999.0  571230.0  "
      ]
     },
     "execution_count": 12,
     "metadata": {},
     "output_type": "execute_result"
    }
   ],
   "source": [
    "df.describe().T"
   ]
  },
  {
   "cell_type": "markdown",
   "metadata": {},
   "source": [
    "* Half of the products are around 1040/-, while the maximum price of a product is 5,71,230/-"
   ]
  },
  {
   "cell_type": "code",
   "execution_count": 13,
   "metadata": {},
   "outputs": [
    {
     "data": {
      "image/png": "[encoded data removed]",
      "text/plain": [
       "<Figure size 800x600 with 1 Axes>"
      ]
     },
     "metadata": {},
     "output_type": "display_data"
    }
   ],
   "source": [
    "fig, ax = plt.subplots(figsize = (8, 6))\n",
    "\n",
    "# Scatter plot of retail price vs. discounted price\n",
    "sns.scatterplot(x = 'retail_price', y = 'discounted_price', data = df, ax = ax)\n",
    "\n",
    "# Add the line y = x\n",
    "max_price = max(df['retail_price'].max(), df['discounted_price'].max())\n",
    "ax.plot([0, max_price], [0, max_price], color = 'red', linestyle = '--', label = 'y = x')\n",
    "\n",
    "# Set the title and axis labels\n",
    "ax.set_title('Retail Price vs Discounted Price')\n",
    "ax.set_xlabel('Retail Price')\n",
    "ax.set_ylabel('Discounted Price')\n",
    "ax.legend()\n",
    "\n",
    "plt.show()"
   ]
  },
  {
   "cell_type": "markdown",
   "metadata": {},
   "source": [
    "<p> There's not much difference at lower prices, but as the prices increase there is difference between retail and discounted prices. <p> "
   ]
  },
  {
   "cell_type": "code",
   "execution_count": 14,
   "metadata": {},
   "outputs": [
    {
     "data": {
      "image/png": "[encoded data removed]",
      "text/plain": [
       "<Figure size 2000x500 with 2 Axes>"
      ]
     },
     "metadata": {},
     "output_type": "display_data"
    }
   ],
   "source": [
    "fig, ax = plt.subplots(1, 2, figsize = (20, 5))\n",
    "\n",
    "# Product rating distribution\n",
    "sns.histplot(df['product_rating'], ax = ax[0])\n",
    "ax[0].set_title('Distribution of Product Rating')\n",
    "ax[0].set_xlabel('Rating')\n",
    "ax[0].set_ylabel('Count')\n",
    "plt.setp(ax[0].get_xticklabels(), rotation = 90)\n",
    "\n",
    "# Overall rating distribution\n",
    "sns.histplot(df['overall_rating'], ax = ax[1])\n",
    "ax[1].set_title('Distribution of Overall Rating')\n",
    "ax[1].set_xlabel('Rating')\n",
    "ax[1].set_ylabel('Count')\n",
    "plt.setp(ax[1].get_xticklabels(), rotation = 90)\n",
    "\n",
    "plt.tight_layout()\n",
    "plt.show()"
   ]
  },
  {
   "cell_type": "markdown",
   "metadata": {},
   "source": [
    "<p> For most of the rows, rating information is not available. For those rows, which are available the distribution is roughly same <p>"
   ]
  },
  {
   "cell_type": "markdown",
   "metadata": {},
   "source": [
    "## Text Preprocessing"
   ]
  },
  {
   "cell_type": "code",
   "execution_count": 15,
   "metadata": {},
   "outputs": [
    {
     "data": {
      "text/plain": [
       "Index(['uniq_id', 'crawl_timestamp', 'product_url', 'product_name',\n",
       "       'product_category_tree', 'pid', 'retail_price', 'discounted_price',\n",
       "       'image', 'is_FK_Advantage_product', 'description', 'product_rating',\n",
       "       'overall_rating', 'brand', 'product_specifications'],\n",
       "      dtype='object')"
      ]
     },
     "execution_count": 15,
     "metadata": {},
     "output_type": "execute_result"
    }
   ],
   "source": [
    "df.columns"
   ]
  },
  {
   "cell_type": "code",
   "execution_count": 52,
   "metadata": {},
   "outputs": [
    {
     "data": {
      "text/html": [
       "<div>\n",
       "<style scoped>\n",
       "    .dataframe tbody tr th:only-of-type {\n",
       "        vertical-align: middle;\n",
       "    }\n",
       "\n",
       "    .dataframe tbody tr th {\n",
       "        vertical-align: top;\n",
       "    }\n",
       "\n",
       "    .dataframe thead th {\n",
       "        text-align: right;\n",
       "    }\n",
       "</style>\n",
       "<table border=\"1\" class=\"dataframe\">\n",
       "  <thead>\n",
       "    <tr style=\"text-align: right;\">\n",
       "      <th></th>\n",
       "      <th>uniq_id</th>\n",
       "      <th>product_name</th>\n",
       "      <th>product_category_tree</th>\n",
       "      <th>description</th>\n",
       "      <th>brand</th>\n",
       "      <th>product_specifications</th>\n",
       "    </tr>\n",
       "  </thead>\n",
       "  <tbody>\n",
       "    <tr>\n",
       "      <th>0</th>\n",
       "      <td>c2d766ca982eca8304150849735ffef9</td>\n",
       "      <td>Alisha Solid Women's Cycling Shorts</td>\n",
       "      <td>[\"Clothing &gt;&gt; Women's Clothing &gt;&gt; Lingerie, Sl...</td>\n",
       "      <td>Key Features of Alisha Solid Women's Cycling S...</td>\n",
       "      <td>Alisha</td>\n",
       "      <td>{\"product_specification\"=&gt;[{\"key\"=&gt;\"Number of ...</td>\n",
       "    </tr>\n",
       "    <tr>\n",
       "      <th>1</th>\n",
       "      <td>7f7036a6d550aaa89d34c77bd39a5e48</td>\n",
       "      <td>FabHomeDecor Fabric Double Sofa Bed</td>\n",
       "      <td>[\"Furniture &gt;&gt; Living Room Furniture &gt;&gt; Sofa B...</td>\n",
       "      <td>FabHomeDecor Fabric Double Sofa Bed (Finish Co...</td>\n",
       "      <td>FabHomeDecor</td>\n",
       "      <td>{\"product_specification\"=&gt;[{\"key\"=&gt;\"Installati...</td>\n",
       "    </tr>\n",
       "    <tr>\n",
       "      <th>2</th>\n",
       "      <td>f449ec65dcbc041b6ae5e6a32717d01b</td>\n",
       "      <td>AW Bellies</td>\n",
       "      <td>[\"Footwear &gt;&gt; Women's Footwear &gt;&gt; Ballerinas &gt;...</td>\n",
       "      <td>Key Features of AW Bellies Sandals Wedges Heel...</td>\n",
       "      <td>AW</td>\n",
       "      <td>{\"product_specification\"=&gt;[{\"key\"=&gt;\"Ideal For\"...</td>\n",
       "    </tr>\n",
       "    <tr>\n",
       "      <th>3</th>\n",
       "      <td>0973b37acd0c664e3de26e97e5571454</td>\n",
       "      <td>Alisha Solid Women's Cycling Shorts</td>\n",
       "      <td>[\"Clothing &gt;&gt; Women's Clothing &gt;&gt; Lingerie, Sl...</td>\n",
       "      <td>Key Features of Alisha Solid Women's Cycling S...</td>\n",
       "      <td>Alisha</td>\n",
       "      <td>{\"product_specification\"=&gt;[{\"key\"=&gt;\"Number of ...</td>\n",
       "    </tr>\n",
       "    <tr>\n",
       "      <th>4</th>\n",
       "      <td>bc940ea42ee6bef5ac7cea3fb5cfbee7</td>\n",
       "      <td>Sicons All Purpose Arnica Dog Shampoo</td>\n",
       "      <td>[\"Pet Supplies &gt;&gt; Grooming &gt;&gt; Skin &amp; Coat Care...</td>\n",
       "      <td>Specifications of Sicons All Purpose Arnica Do...</td>\n",
       "      <td>Sicons</td>\n",
       "      <td>{\"product_specification\"=&gt;[{\"key\"=&gt;\"Pet Type\",...</td>\n",
       "    </tr>\n",
       "    <tr>\n",
       "      <th>...</th>\n",
       "      <td>...</td>\n",
       "      <td>...</td>\n",
       "      <td>...</td>\n",
       "      <td>...</td>\n",
       "      <td>...</td>\n",
       "      <td>...</td>\n",
       "    </tr>\n",
       "    <tr>\n",
       "      <th>19995</th>\n",
       "      <td>7179d2f6c4ad50a17d014ca1d2815156</td>\n",
       "      <td>WallDesign Small Vinyl Sticker</td>\n",
       "      <td>[\"Baby Care &gt;&gt; Baby &amp; Kids Gifts &gt;&gt; Stickers &gt;...</td>\n",
       "      <td>Buy WallDesign Small Vinyl Sticker for Rs.730 ...</td>\n",
       "      <td>WallDesign</td>\n",
       "      <td>{\"product_specification\"=&gt;[{\"key\"=&gt;\"Number of ...</td>\n",
       "    </tr>\n",
       "    <tr>\n",
       "      <th>19996</th>\n",
       "      <td>71ac419198359d37b8fe5e3fffdfee09</td>\n",
       "      <td>Wallmantra Large Vinyl Stickers Sticker</td>\n",
       "      <td>[\"Baby Care &gt;&gt; Baby &amp; Kids Gifts &gt;&gt; Stickers &gt;...</td>\n",
       "      <td>Buy Wallmantra Large Vinyl Stickers Sticker fo...</td>\n",
       "      <td>Wallmantra</td>\n",
       "      <td>{\"product_specification\"=&gt;[{\"key\"=&gt;\"Number of ...</td>\n",
       "    </tr>\n",
       "    <tr>\n",
       "      <th>19997</th>\n",
       "      <td>93e9d343837400ce0d7980874ece471c</td>\n",
       "      <td>Elite Collection Medium Acrylic Sticker</td>\n",
       "      <td>[\"Baby Care &gt;&gt; Baby &amp; Kids Gifts &gt;&gt; Stickers &gt;...</td>\n",
       "      <td>Buy Elite Collection Medium Acrylic Sticker fo...</td>\n",
       "      <td>Elite Collection</td>\n",
       "      <td>{\"product_specification\"=&gt;[{\"key\"=&gt;\"Number of ...</td>\n",
       "    </tr>\n",
       "    <tr>\n",
       "      <th>19998</th>\n",
       "      <td>669e79b8fa5d9ae020841c0c97d5e935</td>\n",
       "      <td>Elite Collection Medium Acrylic Sticker</td>\n",
       "      <td>[\"Baby Care &gt;&gt; Baby &amp; Kids Gifts &gt;&gt; Stickers &gt;...</td>\n",
       "      <td>Buy Elite Collection Medium Acrylic Sticker fo...</td>\n",
       "      <td>Elite Collection</td>\n",
       "      <td>{\"product_specification\"=&gt;[{\"key\"=&gt;\"Number of ...</td>\n",
       "    </tr>\n",
       "    <tr>\n",
       "      <th>19999</th>\n",
       "      <td>cb4fa87a874f715fff567f7b7b3be79c</td>\n",
       "      <td>Elite Collection Medium Acrylic Sticker</td>\n",
       "      <td>[\"Baby Care &gt;&gt; Baby &amp; Kids Gifts &gt;&gt; Stickers &gt;...</td>\n",
       "      <td>Buy Elite Collection Medium Acrylic Sticker fo...</td>\n",
       "      <td>Elite Collection</td>\n",
       "      <td>{\"product_specification\"=&gt;[{\"key\"=&gt;\"Number of ...</td>\n",
       "    </tr>\n",
       "  </tbody>\n",
       "</table>\n",
       "<p>20000 rows × 6 columns</p>\n",
       "</div>"
      ],
      "text/plain": [
       "                                uniq_id  \\\n",
       "0      c2d766ca982eca8304150849735ffef9   \n",
       "1      7f7036a6d550aaa89d34c77bd39a5e48   \n",
       "2      f449ec65dcbc041b6ae5e6a32717d01b   \n",
       "3      0973b37acd0c664e3de26e97e5571454   \n",
       "4      bc940ea42ee6bef5ac7cea3fb5cfbee7   \n",
       "...                                 ...   \n",
       "19995  7179d2f6c4ad50a17d014ca1d2815156   \n",
       "19996  71ac419198359d37b8fe5e3fffdfee09   \n",
       "19997  93e9d343837400ce0d7980874ece471c   \n",
       "19998  669e79b8fa5d9ae020841c0c97d5e935   \n",
       "19999  cb4fa87a874f715fff567f7b7b3be79c   \n",
       "\n",
       "                                  product_name  \\\n",
       "0          Alisha Solid Women's Cycling Shorts   \n",
       "1          FabHomeDecor Fabric Double Sofa Bed   \n",
       "2                                   AW Bellies   \n",
       "3          Alisha Solid Women's Cycling Shorts   \n",
       "4        Sicons All Purpose Arnica Dog Shampoo   \n",
       "...                                        ...   \n",
       "19995           WallDesign Small Vinyl Sticker   \n",
       "19996  Wallmantra Large Vinyl Stickers Sticker   \n",
       "19997  Elite Collection Medium Acrylic Sticker   \n",
       "19998  Elite Collection Medium Acrylic Sticker   \n",
       "19999  Elite Collection Medium Acrylic Sticker   \n",
       "\n",
       "                                   product_category_tree  \\\n",
       "0      [\"Clothing >> Women's Clothing >> Lingerie, Sl...   \n",
       "1      [\"Furniture >> Living Room Furniture >> Sofa B...   \n",
       "2      [\"Footwear >> Women's Footwear >> Ballerinas >...   \n",
       "3      [\"Clothing >> Women's Clothing >> Lingerie, Sl...   \n",
       "4      [\"Pet Supplies >> Grooming >> Skin & Coat Care...   \n",
       "...                                                  ...   \n",
       "19995  [\"Baby Care >> Baby & Kids Gifts >> Stickers >...   \n",
       "19996  [\"Baby Care >> Baby & Kids Gifts >> Stickers >...   \n",
       "19997  [\"Baby Care >> Baby & Kids Gifts >> Stickers >...   \n",
       "19998  [\"Baby Care >> Baby & Kids Gifts >> Stickers >...   \n",
       "19999  [\"Baby Care >> Baby & Kids Gifts >> Stickers >...   \n",
       "\n",
       "                                             description             brand  \\\n",
       "0      Key Features of Alisha Solid Women's Cycling S...            Alisha   \n",
       "1      FabHomeDecor Fabric Double Sofa Bed (Finish Co...      FabHomeDecor   \n",
       "2      Key Features of AW Bellies Sandals Wedges Heel...                AW   \n",
       "3      Key Features of Alisha Solid Women's Cycling S...            Alisha   \n",
       "4      Specifications of Sicons All Purpose Arnica Do...            Sicons   \n",
       "...                                                  ...               ...   \n",
       "19995  Buy WallDesign Small Vinyl Sticker for Rs.730 ...        WallDesign   \n",
       "19996  Buy Wallmantra Large Vinyl Stickers Sticker fo...        Wallmantra   \n",
       "19997  Buy Elite Collection Medium Acrylic Sticker fo...  Elite Collection   \n",
       "19998  Buy Elite Collection Medium Acrylic Sticker fo...  Elite Collection   \n",
       "19999  Buy Elite Collection Medium Acrylic Sticker fo...  Elite Collection   \n",
       "\n",
       "                                  product_specifications  \n",
       "0      {\"product_specification\"=>[{\"key\"=>\"Number of ...  \n",
       "1      {\"product_specification\"=>[{\"key\"=>\"Installati...  \n",
       "2      {\"product_specification\"=>[{\"key\"=>\"Ideal For\"...  \n",
       "3      {\"product_specification\"=>[{\"key\"=>\"Number of ...  \n",
       "4      {\"product_specification\"=>[{\"key\"=>\"Pet Type\",...  \n",
       "...                                                  ...  \n",
       "19995  {\"product_specification\"=>[{\"key\"=>\"Number of ...  \n",
       "19996  {\"product_specification\"=>[{\"key\"=>\"Number of ...  \n",
       "19997  {\"product_specification\"=>[{\"key\"=>\"Number of ...  \n",
       "19998  {\"product_specification\"=>[{\"key\"=>\"Number of ...  \n",
       "19999  {\"product_specification\"=>[{\"key\"=>\"Number of ...  \n",
       "\n",
       "[20000 rows x 6 columns]"
      ]
     },
     "execution_count": 52,
     "metadata": {},
     "output_type": "execute_result"
    }
   ],
   "source": [
    "useful_text_cols = df[['uniq_id', 'product_name', 'product_category_tree', 'description', 'brand', 'product_specifications']]\n",
    "useful_text_cols"
   ]
  },
  {
   "cell_type": "code",
   "execution_count": 53,
   "metadata": {},
   "outputs": [
    {
     "data": {
      "text/plain": [
       "'{\"product_specification\"=>[{\"key\"=>\"Number of Contents in Sales Package\", \"value\"=>\"Pack of 3\"}, {\"key\"=>\"Fabric\", \"value\"=>\"Cotton Lycra\"}, {\"key\"=>\"Type\", \"value\"=>\"Cycling Shorts\"}, {\"key\"=>\"Pattern\", \"value\"=>\"Solid\"}, {\"key\"=>\"Ideal For\", \"value\"=>\"Women\\'s\"}, {\"value\"=>\"Gentle Machine Wash in Lukewarm Water, Do Not Bleach\"}, {\"key\"=>\"Style Code\", \"value\"=>\"ALTHT_3P_21\"}, {\"value\"=>\"3 shorts\"}]}'"
      ]
     },
     "execution_count": 53,
     "metadata": {},
     "output_type": "execute_result"
    }
   ],
   "source": [
    "useful_text_cols.iloc[0]['product_specifications']"
   ]
  },
  {
   "cell_type": "code",
   "execution_count": 54,
   "metadata": {},
   "outputs": [
    {
     "name": "stderr",
     "output_type": "stream",
     "text": [
      "C:\\Users\\sunny\\AppData\\Local\\Temp\\ipykernel_477608\\3242117560.py:25: SettingWithCopyWarning: \n",
      "A value is trying to be set on a copy of a slice from a DataFrame.\n",
      "Try using .loc[row_indexer,col_indexer] = value instead\n",
      "\n",
      "See the caveats in the documentation: https://pandas.pydata.org/pandas-docs/stable/user_guide/indexing.html#returning-a-view-versus-a-copy\n",
      "  useful_text_cols['formatted_specifications'] = useful_text_cols['product_specifications'].apply(convert_specifications)\n"
     ]
    }
   ],
   "source": [
    "# Function to convert the product_specifications to the desired format, like \"Occasion - Casual, Ideal For - Women, ... and so on\n",
    "\n",
    "def convert_specifications(spec):\n",
    "    try: \n",
    "        # Convert the string to a dictionary\n",
    "        spec_dict = ast.literal_eval(spec.replace(\"=>\", \":\"))\n",
    "        key_value_pairs = []\n",
    "        for item in spec_dict['product_specification']:\n",
    "            if isinstance(item, dict):  # Ensure item is a dictionary\n",
    "                key = item.get('key')\n",
    "                value = item.get('value')\n",
    "                if key and value:\n",
    "                    key_value_pairs.append(f\"{key} - {value}\")\n",
    "                elif value:  # handle cases where only 'value' is present\n",
    "                    key_value_pairs.append(f\"{value}\")\n",
    "            else:\n",
    "                continue\n",
    "        \n",
    "        # Join all pairs into a single string\n",
    "        return \", \".join(key_value_pairs)\n",
    "    except:\n",
    "        return np.nan  # Return NaN if the spec is not a string\n",
    "\n",
    "\n",
    "useful_text_cols['formatted_specifications'] = useful_text_cols['product_specifications'].apply(convert_specifications)"
   ]
  },
  {
   "cell_type": "code",
   "execution_count": 55,
   "metadata": {},
   "outputs": [
    {
     "data": {
      "text/plain": [
       "\"Number of Contents in Sales Package - Pack of 3, Fabric - Cotton Lycra, Type - Cycling Shorts, Pattern - Solid, Ideal For - Women's, Gentle Machine Wash in Lukewarm Water, Do Not Bleach, Style Code - ALTHT_3P_21, 3 shorts\""
      ]
     },
     "execution_count": 55,
     "metadata": {},
     "output_type": "execute_result"
    }
   ],
   "source": [
    "useful_text_cols.iloc[0]['formatted_specifications']"
   ]
  },
  {
   "cell_type": "code",
   "execution_count": 56,
   "metadata": {},
   "outputs": [
    {
     "name": "stderr",
     "output_type": "stream",
     "text": [
      "C:\\Users\\sunny\\AppData\\Local\\Temp\\ipykernel_477608\\4148952009.py:14: SettingWithCopyWarning: \n",
      "A value is trying to be set on a copy of a slice from a DataFrame.\n",
      "Try using .loc[row_indexer,col_indexer] = value instead\n",
      "\n",
      "See the caveats in the documentation: https://pandas.pydata.org/pandas-docs/stable/user_guide/indexing.html#returning-a-view-versus-a-copy\n",
      "  useful_text_cols['formatted_category_tree'] = useful_text_cols['product_category_tree'].apply(convert_product_tree)\n"
     ]
    }
   ],
   "source": [
    "# category_data = df['product_category_tree'].values\n",
    "\n",
    "# Extract unique categories\n",
    "\n",
    "def convert_product_tree(cat_str):\n",
    "    try:\n",
    "        cat_list = eval(cat_str)\n",
    "        cat_list = ''.join(cat_list).strip()\n",
    "        cat_list = cat_list.replace('>>', '-')\n",
    "        return cat_list\n",
    "    except:\n",
    "        return np.nan\n",
    "    \n",
    "useful_text_cols['formatted_category_tree'] = useful_text_cols['product_category_tree'].apply(convert_product_tree)\n",
    "\n",
    "# for cat_str in category_data:\n",
    "#     cat_list = eval(cat_str)\n",
    "#     cat_list = ''.join(cat_list).split(\">>\")[0].strip()\n",
    "#     categories.append(cat_list)\n",
    "# category_counts = Counter(categories)\n",
    "# print(f\"Number of categories: {len(category_counts)}\")"
   ]
  },
  {
   "cell_type": "code",
   "execution_count": 57,
   "metadata": {},
   "outputs": [
    {
     "data": {
      "text/plain": [
       "\"Clothing - Women's Clothing - Lingerie, Sleep & Swimwear - Shorts - Alisha Shorts - Alisha Solid Women's Cycling Shorts\""
      ]
     },
     "execution_count": 57,
     "metadata": {},
     "output_type": "execute_result"
    }
   ],
   "source": [
    "useful_text_cols.iloc[0]['formatted_category_tree']"
   ]
  },
  {
   "cell_type": "code",
   "execution_count": 58,
   "metadata": {},
   "outputs": [
    {
     "name": "stderr",
     "output_type": "stream",
     "text": [
      "C:\\Users\\sunny\\AppData\\Local\\Temp\\ipykernel_477608\\1253379326.py:1: SettingWithCopyWarning: \n",
      "A value is trying to be set on a copy of a slice from a DataFrame.\n",
      "Try using .loc[row_indexer,col_indexer] = value instead\n",
      "\n",
      "See the caveats in the documentation: https://pandas.pydata.org/pandas-docs/stable/user_guide/indexing.html#returning-a-view-versus-a-copy\n",
      "  useful_text_cols['text_col'] = (\n"
     ]
    }
   ],
   "source": [
    "useful_text_cols['text_col'] = (\n",
    "    useful_text_cols['product_name'].fillna('') + \" \" + \n",
    "    useful_text_cols['description'].fillna('') + \" \" +  \n",
    "    useful_text_cols['formatted_category_tree'].fillna('') + \" \" +  \n",
    "    useful_text_cols['formatted_specifications'].fillna('') + \" \" + \n",
    "    useful_text_cols['brand'].fillna('')\n",
    ")"
   ]
  },
  {
   "cell_type": "code",
   "execution_count": 59,
   "metadata": {},
   "outputs": [
    {
     "data": {
      "text/plain": [
       "'Sicons Conditioning Conditoner Dog Shampoo Specifications of Sicons Conditioning Conditoner Dog Shampoo (200 ml) General Pet Type Dog Brand Sicons Quantity 200 ml Model Number SH.DF-02 Type Conditioning Fragrance Conditoner Form Factor Gel In the Box Sales Package Shampoo Sicons Dog Fashion Conditioner Aloe Rinse Pet Supplies - Grooming > Skin & Coat Care - Shampoo - Sicons Conditioning Conditoner Dog Shampoo (200 ml) Pet Type - Dog, Brand - Sicons, Quantity - 200 ml, Model Number - SH.DF-02, Type - Conditioning, Fragrance - Conditoner, Form Factor - Gel, Sales Package - Shampoo Sicons Dog Fashion Conditioner Aloe Rinse Sicons'"
      ]
     },
     "execution_count": 59,
     "metadata": {},
     "output_type": "execute_result"
    }
   ],
   "source": [
    "useful_text_cols.iloc[20]['text_col']"
   ]
  },
  {
   "cell_type": "code",
   "execution_count": 60,
   "metadata": {},
   "outputs": [
    {
     "name": "stderr",
     "output_type": "stream",
     "text": [
      "C:\\Users\\sunny\\AppData\\Local\\Temp\\ipykernel_477608\\2321943828.py:24: SettingWithCopyWarning: \n",
      "A value is trying to be set on a copy of a slice from a DataFrame.\n",
      "Try using .loc[row_indexer,col_indexer] = value instead\n",
      "\n",
      "See the caveats in the documentation: https://pandas.pydata.org/pandas-docs/stable/user_guide/indexing.html#returning-a-view-versus-a-copy\n",
      "  useful_text_cols['text_col'] = useful_text_cols['text_col'].apply(preprocess_string)\n"
     ]
    }
   ],
   "source": [
    "def preprocess_string(text):\n",
    "    try:\n",
    "        # 1. Lowercase everything\n",
    "        text = text.lower()\n",
    "        \n",
    "        # 2. Remove HTML tags\n",
    "        text = re.sub('<[^>]+>', '', text)\n",
    "        \n",
    "        # 3. Remove punctuation\n",
    "        text = re.sub(r'[^\\w\\s]', '', text)\n",
    "        \n",
    "        # 4. Remove stopwords\n",
    "        stop_words = set(stopwords.words('english'))\n",
    "        text = ' '.join([word for word in text.split() if word not in stop_words])\n",
    "        \n",
    "        # 5. Stemming\n",
    "        # stemmer = PorterStemmer()\n",
    "        # text = ' '.join([stemmer.stem(word) for word in text.split()])\n",
    "        \n",
    "        return text\n",
    "    except:\n",
    "        return np.nan\n",
    "\n",
    "useful_text_cols['text_col'] = useful_text_cols['text_col'].apply(preprocess_string)"
   ]
  },
  {
   "cell_type": "code",
   "execution_count": 61,
   "metadata": {},
   "outputs": [
    {
     "data": {
      "text/plain": [
       "uniq_id                        0\n",
       "product_name                   0\n",
       "product_category_tree          0\n",
       "description                    2\n",
       "brand                       5864\n",
       "product_specifications        14\n",
       "formatted_specifications      67\n",
       "formatted_category_tree        0\n",
       "text_col                       0\n",
       "dtype: int64"
      ]
     },
     "execution_count": 61,
     "metadata": {},
     "output_type": "execute_result"
    }
   ],
   "source": [
    "useful_text_cols.isnull().sum()"
   ]
  },
  {
   "cell_type": "code",
   "execution_count": 67,
   "metadata": {},
   "outputs": [
    {
     "data": {
      "text/plain": [
       "18527    zsupport senior monopod walking polo stick 36 ...\n",
       "2448     luxemburg bandaeu womens tube bra luxemburg ba...\n",
       "10731    decot paradise printed kurti patiyala key feat...\n",
       "19287    lovely plastic desk chair specifications lovel...\n",
       "11983    madhyam art brass brass bangle set madhyam art...\n",
       "6859     ela acrylic necklace ela acrylic necklace buy ...\n",
       "12543    itrendz womens printed casual shirt itrendz wo...\n",
       "18595    leading lady womens camisole key features lead...\n",
       "7424     park avenue 8 edp cool blue deodorant combo se...\n",
       "15832    jjc lh37 lens hood buy jjc lh37 lens hood rs 1...\n",
       "Name: text_col, dtype: object"
      ]
     },
     "execution_count": 67,
     "metadata": {},
     "output_type": "execute_result"
    }
   ],
   "source": [
    "temp = useful_text_cols.sample(10)\n",
    "temp['text_col']"
   ]
  },
  {
   "cell_type": "code",
   "execution_count": 70,
   "metadata": {},
   "outputs": [
    {
     "data": {
      "text/plain": [
       "'rorlig rr028 expedition analog watch men boys rorlig rr028 expedition analog watch men boys price rs 399 bombarded complimenting glances walk wearing brownblack coloured analog watch featuring stylish dial attractive leather strap watch classy touch look stylish accessory fine pick flaunt casuals well formals bombarded complimenting glances walk wearing brownblack coloured analog watch featuring stylish dial attractive leather strap watch classy touch look stylish accessory fine pick flaunt casuals well formals watches wrist watches rorlig wrist watches chronograph altimeter date display barometer alarm clock compass calendar luminous type analog series expedition style code rr028 occasion formal casual partywedding sports ideal men boys novelty feature stylish designed power source battery powered 1 years manufacturers warranty box material plastic dial shape round strap color brown scratch resistant yes water resistant yes dial color black watch'"
      ]
     },
     "execution_count": 70,
     "metadata": {},
     "output_type": "execute_result"
    }
   ],
   "source": [
    "useful_text_cols.loc[100]['text_col']"
   ]
  },
  {
   "cell_type": "code",
   "execution_count": 75,
   "metadata": {},
   "outputs": [],
   "source": [
    "id_to_text_df = useful_text_cols[['uniq_id', 'text_col']]\n",
    "id_to_text_df.to_csv(\"preprocessed_text.csv\", index = False)"
   ]
  },
  {
   "cell_type": "markdown",
   "metadata": {},
   "source": [
    "## Image column processing"
   ]
  },
  {
   "cell_type": "code",
   "execution_count": 79,
   "metadata": {},
   "outputs": [
    {
     "name": "stdout",
     "output_type": "stream",
     "text": [
      "nan\n",
      "nan\n",
      "nan\n"
     ]
    }
   ],
   "source": [
    "def process_image_link(l):\n",
    "    try:\n",
    "        l = eval(l)\n",
    "        return l\n",
    "    except:\n",
    "        print(l)\n",
    "        return np.nan\n",
    "\n",
    "df['image_new'] = df['image'].apply(process_image_link)"
   ]
  },
  {
   "cell_type": "code",
   "execution_count": 81,
   "metadata": {},
   "outputs": [],
   "source": [
    "id_to_image_df = df[['uniq_id', 'image_new']]\n",
    "id_to_image_df.to_csv(\"id2img.csv\", index = False)"
   ]
  },
  {
   "cell_type": "code",
   "execution_count": null,
   "metadata": {},
   "outputs": [],
   "source": []
  }
 ],
 "metadata": {
  "kernelspec": {
   "display_name": "venv",
   "language": "python",
   "name": "python3"
  },
  "language_info": {
   "codemirror_mode": {
    "name": "ipython",
    "version": 3
   },
   "file_extension": ".py",
   "mimetype": "text/x-python",
   "name": "python",
   "nbconvert_exporter": "python",
   "pygments_lexer": "ipython3",
   "version": "3.12.4"
  }
 },
 "nbformat": 4,
 "nbformat_minor": 2
}
